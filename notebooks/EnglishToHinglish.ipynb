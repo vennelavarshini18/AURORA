{
  "nbformat": 4,
  "nbformat_minor": 0,
  "metadata": {
    "colab": {
      "provenance": [],
      "gpuType": "T4"
    },
    "kernelspec": {
      "name": "python3",
      "display_name": "Python 3"
    },
    "language_info": {
      "name": "python"
    },
    "accelerator": "GPU"
  },
  "cells": [
    {
      "cell_type": "code",
      "execution_count": null,
      "metadata": {
        "id": "WK7Nr6sgEIlK"
      },
      "outputs": [],
      "source": [
        "import numpy as np\n",
        "import pandas as pd\n",
        "import seaborn as sns\n",
        "import matplotlib.pyplot as plt"
      ]
    },
    {
      "cell_type": "code",
      "source": [
        "hinglish=pd.read_csv('/content/datasethinglish.csv')"
      ],
      "metadata": {
        "id": "wUvoYfvWEV_e"
      },
      "execution_count": null,
      "outputs": []
    },
    {
      "cell_type": "code",
      "source": [
        "from sklearn.model_selection import train_test_split\n",
        "xtrain,xtest,ytrain,ytest=train_test_split(hinglish[\"English\"],hinglish[\"Hinglish\"],test_size=0.2,random_state=42)"
      ],
      "metadata": {
        "id": "fw5LPzY2EYD1"
      },
      "execution_count": null,
      "outputs": []
    },
    {
      "cell_type": "code",
      "source": [
        "from tensorflow.keras.optimizers import Adam\n",
        "from tensorflow.keras.layers import Dense, Embedding, Bidirectional, TimeDistributed\n",
        "from tensorflow.keras.losses import sparse_categorical_crossentropy\n",
        "import tensorflow as tf\n",
        "from tensorflow.keras.preprocessing.text import Tokenizer\n",
        "from tensorflow.keras.preprocessing.sequence import pad_sequences\n",
        "from sklearn.model_selection import train_test_split"
      ],
      "metadata": {
        "id": "gE3HRU_8EdjM"
      },
      "execution_count": null,
      "outputs": []
    },
    {
      "cell_type": "code",
      "source": [
        "xtrain=[str(x) for x in xtrain]\n",
        "ytrain=[str(y) for y in ytrain]\n",
        "xtest=[str(x) for x in xtest]\n",
        "ytest=[str(y) for y in ytest]"
      ],
      "metadata": {
        "id": "0cyzN623EffA"
      },
      "execution_count": null,
      "outputs": []
    },
    {
      "cell_type": "code",
      "source": [
        "en = Tokenizer(num_words=20000, oov_token=None)\n",
        "hi = Tokenizer(num_words=20000, oov_token=None)\n",
        "en.fit_on_texts(xtrain+xtest)\n",
        "hi.fit_on_texts(ytrain+ytest)"
      ],
      "metadata": {
        "id": "7bkNU2HeEhWZ"
      },
      "execution_count": null,
      "outputs": []
    },
    {
      "cell_type": "code",
      "source": [
        "import pickle\n",
        "with open(\"eng_tokenizer.pkl\", \"wb\") as f:\n",
        "    pickle.dump(en, f)\n",
        "with open(\"hing_tokenizer.pkl\", \"wb\") as f:\n",
        "    pickle.dump(hi, f)"
      ],
      "metadata": {
        "id": "DazFmh8Gch-O"
      },
      "execution_count": null,
      "outputs": []
    },
    {
      "cell_type": "code",
      "source": [
        "len(en.word_index),len(hi.word_index)"
      ],
      "metadata": {
        "colab": {
          "base_uri": "https://localhost:8080/"
        },
        "id": "wky2wotyEjDw",
        "outputId": "5399dd83-8ebb-411d-9634-478722f6aed9"
      },
      "execution_count": null,
      "outputs": [
        {
          "output_type": "execute_result",
          "data": {
            "text/plain": [
              "(28706, 30350)"
            ]
          },
          "metadata": {},
          "execution_count": 8
        }
      ]
    },
    {
      "cell_type": "code",
      "source": [
        "invocab=len(en.word_index)+1\n",
        "outvocab=len(hi.word_index)+1"
      ],
      "metadata": {
        "id": "e_9DwaHiElCb"
      },
      "execution_count": null,
      "outputs": []
    },
    {
      "cell_type": "code",
      "source": [
        "xtrain=en.texts_to_sequences(xtrain)\n",
        "xtest=en.texts_to_sequences(xtest)\n",
        "ytrain=hi.texts_to_sequences(ytrain)\n",
        "ytest=hi.texts_to_sequences(ytest)"
      ],
      "metadata": {
        "id": "QByWMQCxEnoK"
      },
      "execution_count": null,
      "outputs": []
    },
    {
      "cell_type": "code",
      "source": [
        "mxlen=150\n",
        "xtrain=pad_sequences(xtrain,maxlen=mxlen,padding='post',truncating='post')\n",
        "xtest=pad_sequences(xtest,maxlen=mxlen,padding='post',truncating='post')\n",
        "ytrain= pad_sequences(ytrain,maxlen=mxlen,padding='post',truncating='post')\n",
        "ytest= pad_sequences(ytest,maxlen=mxlen,padding='post',truncating='post')"
      ],
      "metadata": {
        "id": "7YJQTFNdEojM"
      },
      "execution_count": null,
      "outputs": []
    },
    {
      "cell_type": "code",
      "source": [
        "ytrain=ytrain.reshape(*ytrain.shape,1)\n",
        "ytest=ytest.reshape(*ytest.shape,1)"
      ],
      "metadata": {
        "id": "1BVbXBjjEq_k"
      },
      "execution_count": null,
      "outputs": []
    },
    {
      "cell_type": "code",
      "source": [
        "class transblock(tf.keras.layers.Layer):\n",
        "    def __init__(self,embdim,heads,ffdim,rate=0.1,**kwargs):\n",
        "        super().__init__(**kwargs)\n",
        "        self.embdim=embdim\n",
        "        self.heads=heads\n",
        "        self.ffdim=ffdim\n",
        "        self.rate=rate\n",
        "        self.att=tf.keras.layers.MultiHeadAttention(num_heads=heads,key_dim=embdim)\n",
        "        self.ff=tf.keras.Sequential([\n",
        "            tf.keras.layers.Dense(ffdim,activation=\"relu\"),\n",
        "            tf.keras.layers.Dense(embdim),\n",
        "        ])\n",
        "        self.ln1=tf.keras.layers.LayerNormalization(epsilon=1e-6)\n",
        "        self.ln2=tf.keras.layers.LayerNormalization(epsilon=1e-6)\n",
        "        self.dp1=tf.keras.layers.Dropout(rate)\n",
        "        self.dp2=tf.keras.layers.Dropout(rate)\n",
        "\n",
        "    def get_config(self):\n",
        "        cfg=super().get_config().copy()\n",
        "        cfg.update({\n",
        "            'embdim':self.embdim,\n",
        "            'heads':self.heads,\n",
        "            'ffdim':self.ffdim,\n",
        "            'rate':self.rate,\n",
        "        })\n",
        "        return cfg\n",
        "\n",
        "    def call(self,x,training=None):\n",
        "        att=self.att(x,x)\n",
        "        att=self.dp1(att,training=training)\n",
        "        out1=self.ln1(x+att)\n",
        "        ffout=self.ff(out1)\n",
        "        ffout=self.dp2(ffout,training=training)\n",
        "        return self.ln2(out1+ffout)\n"
      ],
      "metadata": {
        "id": "qsqFnNhhEtNq"
      },
      "execution_count": null,
      "outputs": []
    },
    {
      "cell_type": "code",
      "source": [
        "class tokposemb(tf.keras.layers.Layer):\n",
        "   def __init__(self,maxlen,vocab,embdim,**kw):\n",
        "        super().__init__(**kw)\n",
        "        self.maxlen=maxlen\n",
        "        self.vocab=vocab\n",
        "        self.embdim=embdim\n",
        "        self.tokemb=tf.keras.layers.Embedding(input_dim=vocab,output_dim=embdim)\n",
        "        self.posemb=tf.keras.layers.Embedding(input_dim=maxlen,output_dim=embdim)\n",
        "\n",
        "   def get_config(self):\n",
        "        cfg=super().get_config().copy()\n",
        "        cfg.update({\n",
        "            'maxlen':self.maxlen,\n",
        "            'vocab':self.vocab,\n",
        "            'embdim':self.embdim,\n",
        "        })\n",
        "        return cfg\n",
        "\n",
        "   def call(self,x):\n",
        "        ln=tf.shape(x)[-1]\n",
        "        pos=tf.range(start=0,limit=ln,delta=1)\n",
        "        pos=self.posemb(pos)\n",
        "        x=self.tokemb(x)\n",
        "        return x+pos\n"
      ],
      "metadata": {
        "id": "kycbju3TEvhL"
      },
      "execution_count": null,
      "outputs": []
    },
    {
      "cell_type": "code",
      "source": [
        "heads=2        # fewer heads for light attn\n",
        "ffdim=32\n",
        "embdim=128     # smaller emb to save memory\n",
        "opt=Adam(learning_rate=0.003)\n",
        "\n",
        "inp=tf.keras.layers.Input(shape=(mxlen,))\n",
        "emb=tokposemb(mxlen, invocab, embdim)(inp)\n",
        "x=transblock(embdim, heads, ffdim)(emb)\n",
        "x=TimeDistributed(Dense(128, activation=\"relu\"))(x)\n",
        "out=TimeDistributed(Dense(outvocab, activation=\"softmax\"))(x)\n",
        "\n",
        "model=tf.keras.Model(inputs=inp,outputs=out)\n",
        "model.compile(loss=sparse_categorical_crossentropy,optimizer=opt,metrics=['accuracy'])\n",
        "model.summary()\n"
      ],
      "metadata": {
        "colab": {
          "base_uri": "https://localhost:8080/",
          "height": 321
        },
        "id": "mepPbuoEExrn",
        "outputId": "72a264d1-1173-4faf-c724-adc3ebcce18a"
      },
      "execution_count": null,
      "outputs": [
        {
          "output_type": "display_data",
          "data": {
            "text/plain": [
              "\u001b[1mModel: \"functional_1\"\u001b[0m\n"
            ],
            "text/html": [
              "<pre style=\"white-space:pre;overflow-x:auto;line-height:normal;font-family:Menlo,'DejaVu Sans Mono',consolas,'Courier New',monospace\"><span style=\"font-weight: bold\">Model: \"functional_1\"</span>\n",
              "</pre>\n"
            ]
          },
          "metadata": {}
        },
        {
          "output_type": "display_data",
          "data": {
            "text/plain": [
              "┏━━━━━━━━━━━━━━━━━━━━━━━━━━━━━━━━━┳━━━━━━━━━━━━━━━━━━━━━━━━┳━━━━━━━━━━━━━━━┓\n",
              "┃\u001b[1m \u001b[0m\u001b[1mLayer (type)                   \u001b[0m\u001b[1m \u001b[0m┃\u001b[1m \u001b[0m\u001b[1mOutput Shape          \u001b[0m\u001b[1m \u001b[0m┃\u001b[1m \u001b[0m\u001b[1m      Param #\u001b[0m\u001b[1m \u001b[0m┃\n",
              "┡━━━━━━━━━━━━━━━━━━━━━━━━━━━━━━━━━╇━━━━━━━━━━━━━━━━━━━━━━━━╇━━━━━━━━━━━━━━━┩\n",
              "│ input_layer (\u001b[38;5;33mInputLayer\u001b[0m)        │ (\u001b[38;5;45mNone\u001b[0m, \u001b[38;5;34m150\u001b[0m)            │             \u001b[38;5;34m0\u001b[0m │\n",
              "├─────────────────────────────────┼────────────────────────┼───────────────┤\n",
              "│ tokposemb (\u001b[38;5;33mtokposemb\u001b[0m)           │ (\u001b[38;5;45mNone\u001b[0m, \u001b[38;5;34m150\u001b[0m, \u001b[38;5;34m128\u001b[0m)       │     \u001b[38;5;34m3,693,696\u001b[0m │\n",
              "├─────────────────────────────────┼────────────────────────┼───────────────┤\n",
              "│ transblock (\u001b[38;5;33mtransblock\u001b[0m)         │ (\u001b[38;5;45mNone\u001b[0m, \u001b[38;5;34m150\u001b[0m, \u001b[38;5;34m128\u001b[0m)       │       \u001b[38;5;34m140,832\u001b[0m │\n",
              "├─────────────────────────────────┼────────────────────────┼───────────────┤\n",
              "│ time_distributed                │ (\u001b[38;5;45mNone\u001b[0m, \u001b[38;5;34m150\u001b[0m, \u001b[38;5;34m128\u001b[0m)       │        \u001b[38;5;34m16,512\u001b[0m │\n",
              "│ (\u001b[38;5;33mTimeDistributed\u001b[0m)               │                        │               │\n",
              "├─────────────────────────────────┼────────────────────────┼───────────────┤\n",
              "│ time_distributed_1              │ (\u001b[38;5;45mNone\u001b[0m, \u001b[38;5;34m150\u001b[0m, \u001b[38;5;34m30351\u001b[0m)     │     \u001b[38;5;34m3,915,279\u001b[0m │\n",
              "│ (\u001b[38;5;33mTimeDistributed\u001b[0m)               │                        │               │\n",
              "└─────────────────────────────────┴────────────────────────┴───────────────┘\n"
            ],
            "text/html": [
              "<pre style=\"white-space:pre;overflow-x:auto;line-height:normal;font-family:Menlo,'DejaVu Sans Mono',consolas,'Courier New',monospace\">┏━━━━━━━━━━━━━━━━━━━━━━━━━━━━━━━━━┳━━━━━━━━━━━━━━━━━━━━━━━━┳━━━━━━━━━━━━━━━┓\n",
              "┃<span style=\"font-weight: bold\"> Layer (type)                    </span>┃<span style=\"font-weight: bold\"> Output Shape           </span>┃<span style=\"font-weight: bold\">       Param # </span>┃\n",
              "┡━━━━━━━━━━━━━━━━━━━━━━━━━━━━━━━━━╇━━━━━━━━━━━━━━━━━━━━━━━━╇━━━━━━━━━━━━━━━┩\n",
              "│ input_layer (<span style=\"color: #0087ff; text-decoration-color: #0087ff\">InputLayer</span>)        │ (<span style=\"color: #00d7ff; text-decoration-color: #00d7ff\">None</span>, <span style=\"color: #00af00; text-decoration-color: #00af00\">150</span>)            │             <span style=\"color: #00af00; text-decoration-color: #00af00\">0</span> │\n",
              "├─────────────────────────────────┼────────────────────────┼───────────────┤\n",
              "│ tokposemb (<span style=\"color: #0087ff; text-decoration-color: #0087ff\">tokposemb</span>)           │ (<span style=\"color: #00d7ff; text-decoration-color: #00d7ff\">None</span>, <span style=\"color: #00af00; text-decoration-color: #00af00\">150</span>, <span style=\"color: #00af00; text-decoration-color: #00af00\">128</span>)       │     <span style=\"color: #00af00; text-decoration-color: #00af00\">3,693,696</span> │\n",
              "├─────────────────────────────────┼────────────────────────┼───────────────┤\n",
              "│ transblock (<span style=\"color: #0087ff; text-decoration-color: #0087ff\">transblock</span>)         │ (<span style=\"color: #00d7ff; text-decoration-color: #00d7ff\">None</span>, <span style=\"color: #00af00; text-decoration-color: #00af00\">150</span>, <span style=\"color: #00af00; text-decoration-color: #00af00\">128</span>)       │       <span style=\"color: #00af00; text-decoration-color: #00af00\">140,832</span> │\n",
              "├─────────────────────────────────┼────────────────────────┼───────────────┤\n",
              "│ time_distributed                │ (<span style=\"color: #00d7ff; text-decoration-color: #00d7ff\">None</span>, <span style=\"color: #00af00; text-decoration-color: #00af00\">150</span>, <span style=\"color: #00af00; text-decoration-color: #00af00\">128</span>)       │        <span style=\"color: #00af00; text-decoration-color: #00af00\">16,512</span> │\n",
              "│ (<span style=\"color: #0087ff; text-decoration-color: #0087ff\">TimeDistributed</span>)               │                        │               │\n",
              "├─────────────────────────────────┼────────────────────────┼───────────────┤\n",
              "│ time_distributed_1              │ (<span style=\"color: #00d7ff; text-decoration-color: #00d7ff\">None</span>, <span style=\"color: #00af00; text-decoration-color: #00af00\">150</span>, <span style=\"color: #00af00; text-decoration-color: #00af00\">30351</span>)     │     <span style=\"color: #00af00; text-decoration-color: #00af00\">3,915,279</span> │\n",
              "│ (<span style=\"color: #0087ff; text-decoration-color: #0087ff\">TimeDistributed</span>)               │                        │               │\n",
              "└─────────────────────────────────┴────────────────────────┴───────────────┘\n",
              "</pre>\n"
            ]
          },
          "metadata": {}
        },
        {
          "output_type": "display_data",
          "data": {
            "text/plain": [
              "\u001b[1m Total params: \u001b[0m\u001b[38;5;34m7,766,319\u001b[0m (29.63 MB)\n"
            ],
            "text/html": [
              "<pre style=\"white-space:pre;overflow-x:auto;line-height:normal;font-family:Menlo,'DejaVu Sans Mono',consolas,'Courier New',monospace\"><span style=\"font-weight: bold\"> Total params: </span><span style=\"color: #00af00; text-decoration-color: #00af00\">7,766,319</span> (29.63 MB)\n",
              "</pre>\n"
            ]
          },
          "metadata": {}
        },
        {
          "output_type": "display_data",
          "data": {
            "text/plain": [
              "\u001b[1m Trainable params: \u001b[0m\u001b[38;5;34m7,766,319\u001b[0m (29.63 MB)\n"
            ],
            "text/html": [
              "<pre style=\"white-space:pre;overflow-x:auto;line-height:normal;font-family:Menlo,'DejaVu Sans Mono',consolas,'Courier New',monospace\"><span style=\"font-weight: bold\"> Trainable params: </span><span style=\"color: #00af00; text-decoration-color: #00af00\">7,766,319</span> (29.63 MB)\n",
              "</pre>\n"
            ]
          },
          "metadata": {}
        },
        {
          "output_type": "display_data",
          "data": {
            "text/plain": [
              "\u001b[1m Non-trainable params: \u001b[0m\u001b[38;5;34m0\u001b[0m (0.00 B)\n"
            ],
            "text/html": [
              "<pre style=\"white-space:pre;overflow-x:auto;line-height:normal;font-family:Menlo,'DejaVu Sans Mono',consolas,'Courier New',monospace\"><span style=\"font-weight: bold\"> Non-trainable params: </span><span style=\"color: #00af00; text-decoration-color: #00af00\">0</span> (0.00 B)\n",
              "</pre>\n"
            ]
          },
          "metadata": {}
        }
      ]
    },
    {
      "cell_type": "code",
      "source": [
        "history=model.fit(\n",
        "    xtrain,\n",
        "    ytrain,\n",
        "    validation_data=(xtest,ytest),\n",
        "    verbose=1,\n",
        "    batch_size=16,\n",
        "    epochs=5,\n",
        ")"
      ],
      "metadata": {
        "colab": {
          "base_uri": "https://localhost:8080/"
        },
        "id": "_XXspthAEzVV",
        "outputId": "5533616e-1514-42f6-e960-c5b1382df828"
      },
      "execution_count": null,
      "outputs": [
        {
          "output_type": "stream",
          "name": "stdout",
          "text": [
            "Epoch 1/5\n",
            "\u001b[1m3663/3663\u001b[0m \u001b[32m━━━━━━━━━━━━━━━━━━━━\u001b[0m\u001b[37m\u001b[0m \u001b[1m591s\u001b[0m 130ms/step - accuracy: 0.9554 - loss: 0.4951 - val_accuracy: 0.9584 - val_loss: 0.3525\n",
            "Epoch 2/5\n",
            "\u001b[1m3663/3663\u001b[0m \u001b[32m━━━━━━━━━━━━━━━━━━━━\u001b[0m\u001b[37m\u001b[0m \u001b[1m431s\u001b[0m 105ms/step - accuracy: 0.9587 - loss: 0.3421 - val_accuracy: 0.9591 - val_loss: 0.3298\n",
            "Epoch 3/5\n",
            "\u001b[1m3663/3663\u001b[0m \u001b[32m━━━━━━━━━━━━━━━━━━━━\u001b[0m\u001b[37m\u001b[0m \u001b[1m422s\u001b[0m 100ms/step - accuracy: 0.9595 - loss: 0.3109 - val_accuracy: 0.9596 - val_loss: 0.3173\n",
            "Epoch 4/5\n",
            "\u001b[1m3663/3663\u001b[0m \u001b[32m━━━━━━━━━━━━━━━━━━━━\u001b[0m\u001b[37m\u001b[0m \u001b[1m403s\u001b[0m 106ms/step - accuracy: 0.9604 - loss: 0.2806 - val_accuracy: 0.9600 - val_loss: 0.3132\n",
            "Epoch 5/5\n",
            "\u001b[1m3663/3663\u001b[0m \u001b[32m━━━━━━━━━━━━━━━━━━━━\u001b[0m\u001b[37m\u001b[0m \u001b[1m442s\u001b[0m 106ms/step - accuracy: 0.9616 - loss: 0.2562 - val_accuracy: 0.9601 - val_loss: 0.3137\n"
          ]
        }
      ]
    },
    {
      "cell_type": "code",
      "source": [
        "samps = [\"i love you\",\"she is beautiful\"]\n",
        "for s in samps:\n",
        "    seq=en.texts_to_sequences([s])\n",
        "    padseq=pad_sequences(seq, maxlen=mxlen,padding='post',truncating='post')\n",
        "    pred=model.predict(padseq)[0].argmax(1)\n",
        "    out=hi.sequences_to_texts([pred])[0]\n",
        "    print(\"EN:\",s)\n",
        "    print(\"HI:\",out,\"\\n\")"
      ],
      "metadata": {
        "colab": {
          "base_uri": "https://localhost:8080/"
        },
        "id": "hLt7m8q6E1SD",
        "outputId": "0586f8ab-735c-4ac6-dd4e-2360beb9d254"
      },
      "execution_count": null,
      "outputs": [
        {
          "output_type": "stream",
          "name": "stdout",
          "text": [
            "\u001b[1m1/1\u001b[0m \u001b[32m━━━━━━━━━━━━━━━━━━━━\u001b[0m\u001b[37m\u001b[0m \u001b[1m15s\u001b[0m 15s/step\n",
            "EN: i love you\n",
            "HI: mujhe pyara pyara \n",
            "\n",
            "\u001b[1m1/1\u001b[0m \u001b[32m━━━━━━━━━━━━━━━━━━━━\u001b[0m\u001b[37m\u001b[0m \u001b[1m0s\u001b[0m 46ms/step\n",
            "EN: she is beautiful\n",
            "HI: eka sumdara sumdara \n",
            "\n"
          ]
        }
      ]
    },
    {
      "cell_type": "code",
      "source": [
        "model.save(\"besteng2hinglish.keras\")"
      ],
      "metadata": {
        "id": "Z2oorEjmE2xe"
      },
      "execution_count": null,
      "outputs": []
    }
  ]
}