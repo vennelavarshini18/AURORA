{
  "nbformat": 4,
  "nbformat_minor": 0,
  "metadata": {
    "colab": {
      "provenance": []
    },
    "kernelspec": {
      "name": "python3",
      "display_name": "Python 3"
    },
    "language_info": {
      "name": "python"
    }
  },
  "cells": [
    {
      "cell_type": "code",
      "execution_count": 1,
      "metadata": {
        "colab": {
          "base_uri": "https://localhost:8080/"
        },
        "id": "ugc72O9H3Gf9",
        "outputId": "6c7acc2e-c83c-4895-d2a9-3e3e2d58595d"
      },
      "outputs": [
        {
          "output_type": "stream",
          "name": "stderr",
          "text": [
            "[nltk_data] Downloading package wordnet to /root/nltk_data...\n",
            "[nltk_data] Downloading package omw-1.4 to /root/nltk_data...\n"
          ]
        },
        {
          "output_type": "execute_result",
          "data": {
            "text/plain": [
              "True"
            ]
          },
          "metadata": {},
          "execution_count": 1
        }
      ],
      "source": [
        "from textblob import Word\n",
        "import nltk\n",
        "nltk.download('wordnet')\n",
        "nltk.download('omw-1.4')"
      ]
    },
    {
      "cell_type": "code",
      "source": [
        "import numpy as np\n",
        "import pandas as pd\n",
        "import seaborn as sns\n",
        "import matplotlib.pyplot as plt\n",
        "sns.set_style(\"whitegrid\")\n",
        "sns.set_context(\"notebook\")"
      ],
      "metadata": {
        "id": "W16vjlhN695I"
      },
      "execution_count": null,
      "outputs": []
    },
    {
      "cell_type": "code",
      "source": [
        "!pip install contractions"
      ],
      "metadata": {
        "colab": {
          "base_uri": "https://localhost:8080/"
        },
        "id": "BkqfagVdvc39",
        "outputId": "1625a634-2585-46b4-f393-e438c25e5580"
      },
      "execution_count": null,
      "outputs": [
        {
          "output_type": "stream",
          "name": "stdout",
          "text": [
            "Requirement already satisfied: contractions in /usr/local/lib/python3.12/dist-packages (0.1.73)\n",
            "Requirement already satisfied: textsearch>=0.0.21 in /usr/local/lib/python3.12/dist-packages (from contractions) (0.0.24)\n",
            "Requirement already satisfied: anyascii in /usr/local/lib/python3.12/dist-packages (from textsearch>=0.0.21->contractions) (0.3.3)\n",
            "Requirement already satisfied: pyahocorasick in /usr/local/lib/python3.12/dist-packages (from textsearch>=0.0.21->contractions) (2.2.0)\n"
          ]
        }
      ]
    },
    {
      "cell_type": "code",
      "source": [
        "!pip install aksharamukha"
      ],
      "metadata": {
        "colab": {
          "base_uri": "https://localhost:8080/"
        },
        "id": "IritBgvQvfZC",
        "outputId": "2cd68eed-9840-462b-f3dc-80398b3b2182"
      },
      "execution_count": null,
      "outputs": [
        {
          "output_type": "stream",
          "name": "stdout",
          "text": [
            "Requirement already satisfied: aksharamukha in /usr/local/lib/python3.12/dist-packages (2.3)\n",
            "Requirement already satisfied: Requests>=2.20.1 in /usr/local/lib/python3.12/dist-packages (from aksharamukha) (2.32.4)\n",
            "Requirement already satisfied: pykakasi>=2.0.6 in /usr/local/lib/python3.12/dist-packages (from aksharamukha) (2.3.0)\n",
            "Requirement already satisfied: pyyaml>=5.4.1 in /usr/local/lib/python3.12/dist-packages (from aksharamukha) (6.0.2)\n",
            "Requirement already satisfied: langcodes>=3.1.0 in /usr/local/lib/python3.12/dist-packages (from aksharamukha) (3.5.0)\n",
            "Requirement already satisfied: language-data in /usr/local/lib/python3.12/dist-packages (from aksharamukha) (1.3.0)\n",
            "Requirement already satisfied: regex>=2021.8.3 in /usr/local/lib/python3.12/dist-packages (from aksharamukha) (2024.11.6)\n",
            "Requirement already satisfied: fonttools>=4.27 in /usr/local/lib/python3.12/dist-packages (from fonttools[unicode]>=4.27->aksharamukha) (4.59.1)\n",
            "Requirement already satisfied: lxml in /usr/local/lib/python3.12/dist-packages (from aksharamukha) (5.4.0)\n",
            "Requirement already satisfied: unicodedata2>=15.1.0 in /usr/local/lib/python3.12/dist-packages (from fonttools[unicode]>=4.27->aksharamukha) (16.0.0)\n",
            "Requirement already satisfied: marisa-trie>=1.1.0 in /usr/local/lib/python3.12/dist-packages (from language-data->aksharamukha) (1.3.0)\n",
            "Requirement already satisfied: jaconv in /usr/local/lib/python3.12/dist-packages (from pykakasi>=2.0.6->aksharamukha) (0.4.0)\n",
            "Requirement already satisfied: deprecated in /usr/local/lib/python3.12/dist-packages (from pykakasi>=2.0.6->aksharamukha) (1.2.18)\n",
            "Requirement already satisfied: charset_normalizer<4,>=2 in /usr/local/lib/python3.12/dist-packages (from Requests>=2.20.1->aksharamukha) (3.4.3)\n",
            "Requirement already satisfied: idna<4,>=2.5 in /usr/local/lib/python3.12/dist-packages (from Requests>=2.20.1->aksharamukha) (3.10)\n",
            "Requirement already satisfied: urllib3<3,>=1.21.1 in /usr/local/lib/python3.12/dist-packages (from Requests>=2.20.1->aksharamukha) (2.5.0)\n",
            "Requirement already satisfied: certifi>=2017.4.17 in /usr/local/lib/python3.12/dist-packages (from Requests>=2.20.1->aksharamukha) (2025.8.3)\n",
            "Requirement already satisfied: wrapt<2,>=1.10 in /usr/local/lib/python3.12/dist-packages (from deprecated->pykakasi>=2.0.6->aksharamukha) (1.17.3)\n"
          ]
        }
      ]
    },
    {
      "cell_type": "code",
      "source": [
        "import contractions as contracs\n",
        "from wordcloud import WordCloud\n",
        "from nltk.stem import WordNetLemmatizer\n",
        "from nltk.tokenize import word_tokenize,sent_tokenize\n",
        "import spacy\n",
        "import math\n",
        "import re,string,unicodedata\n",
        "from sklearn.model_selection import train_test_split\n",
        "from textblob import TextBlob"
      ],
      "metadata": {
        "id": "sIrdSRz87Qr8"
      },
      "execution_count": null,
      "outputs": []
    },
    {
      "cell_type": "code",
      "source": [
        "import json\n",
        "import os\n",
        "os.environ['KAGGLE_CONFIG_DIR']=\"/content/\""
      ],
      "metadata": {
        "id": "JgixARQmRYUi"
      },
      "execution_count": null,
      "outputs": []
    },
    {
      "cell_type": "code",
      "source": [
        "!chmod 600 /content/kaggle.json"
      ],
      "metadata": {
        "id": "E7NOofE3RaOv"
      },
      "execution_count": null,
      "outputs": []
    },
    {
      "cell_type": "code",
      "source": [
        "!kaggle datasets download -d preetviradiya/english-hindi-dataset -p /content\n",
        "!unzip -q /content/english-hindi-dataset.zip -d dataset"
      ],
      "metadata": {
        "colab": {
          "base_uri": "https://localhost:8080/"
        },
        "id": "vrIS2Vi0Q9MW",
        "outputId": "66211a27-184a-41f1-9847-083bb3a30690"
      },
      "execution_count": null,
      "outputs": [
        {
          "output_type": "stream",
          "name": "stdout",
          "text": [
            "Dataset URL: https://www.kaggle.com/datasets/preetviradiya/english-hindi-dataset\n",
            "License(s): GNU Free Documentation License 1.3\n",
            "Downloading english-hindi-dataset.zip to /content\n",
            "  0% 0.00/13.9M [00:00<?, ?B/s]\n",
            "100% 13.9M/13.9M [00:00<00:00, 476MB/s]\n",
            "replace dataset/Dataset_English_Hindi.csv? [y]es, [n]o, [A]ll, [N]one, [r]ename: y\n"
          ]
        }
      ]
    },
    {
      "cell_type": "code",
      "source": [
        "data=pd.read_csv(\"dataset/Dataset_English_Hindi.csv\")"
      ],
      "metadata": {
        "id": "nF2amF0kSPRG"
      },
      "execution_count": null,
      "outputs": []
    },
    {
      "cell_type": "code",
      "source": [
        "data.sample(5)"
      ],
      "metadata": {
        "colab": {
          "base_uri": "https://localhost:8080/",
          "height": 241
        },
        "id": "pRm7X4WPSVhn",
        "outputId": "4bb4566c-8343-4b48-ebd2-9048da5eb916"
      },
      "execution_count": null,
      "outputs": [
        {
          "output_type": "execute_result",
          "data": {
            "text/plain": [
              "                                                  English  \\\n",
              "45275   This duty-respecter enhance people to do their...   \n",
              "38392   Valabhacharya did promotion-spread of Pushtimarg.   \n",
              "101516  Sat Bull. In this the male straights his legs ...   \n",
              "9805    At 10.27 a.m . , I was brought to the mehmankh...   \n",
              "30261   how it looks - the world, in 1960, it starts t...   \n",
              "\n",
              "                                                    Hindi  \n",
              "45275   2. यह कार्यपालिका विधायिका को उनके संवैधानिक क...  \n",
              "38392   वल्लभाचार्य ने पुष्टिमार्ग का प्रचार-प्रसार किया।  \n",
              "101516  बैठा सांड़ इसमें पुरुष बिस्तर में अपने पांव सी...  \n",
              "9805    उस दिन सुबह 10.27 बजे मुज्हो मेहमानखाने में लय...  \n",
              "30261   तो, 1960 में विश्व किस तरह दिखता है, यह जानना ...  "
            ],
            "text/html": [
              "\n",
              "  <div id=\"df-72f5d7fe-215b-4c59-9e04-a0b83bceeef2\" class=\"colab-df-container\">\n",
              "    <div>\n",
              "<style scoped>\n",
              "    .dataframe tbody tr th:only-of-type {\n",
              "        vertical-align: middle;\n",
              "    }\n",
              "\n",
              "    .dataframe tbody tr th {\n",
              "        vertical-align: top;\n",
              "    }\n",
              "\n",
              "    .dataframe thead th {\n",
              "        text-align: right;\n",
              "    }\n",
              "</style>\n",
              "<table border=\"1\" class=\"dataframe\">\n",
              "  <thead>\n",
              "    <tr style=\"text-align: right;\">\n",
              "      <th></th>\n",
              "      <th>English</th>\n",
              "      <th>Hindi</th>\n",
              "    </tr>\n",
              "  </thead>\n",
              "  <tbody>\n",
              "    <tr>\n",
              "      <th>45275</th>\n",
              "      <td>This duty-respecter enhance people to do their...</td>\n",
              "      <td>2. यह कार्यपालिका विधायिका को उनके संवैधानिक क...</td>\n",
              "    </tr>\n",
              "    <tr>\n",
              "      <th>38392</th>\n",
              "      <td>Valabhacharya did promotion-spread of Pushtimarg.</td>\n",
              "      <td>वल्लभाचार्य ने पुष्टिमार्ग का प्रचार-प्रसार किया।</td>\n",
              "    </tr>\n",
              "    <tr>\n",
              "      <th>101516</th>\n",
              "      <td>Sat Bull. In this the male straights his legs ...</td>\n",
              "      <td>बैठा सांड़ इसमें पुरुष बिस्तर में अपने पांव सी...</td>\n",
              "    </tr>\n",
              "    <tr>\n",
              "      <th>9805</th>\n",
              "      <td>At 10.27 a.m . , I was brought to the mehmankh...</td>\n",
              "      <td>उस दिन सुबह 10.27 बजे मुज्हो मेहमानखाने में लय...</td>\n",
              "    </tr>\n",
              "    <tr>\n",
              "      <th>30261</th>\n",
              "      <td>how it looks - the world, in 1960, it starts t...</td>\n",
              "      <td>तो, 1960 में विश्व किस तरह दिखता है, यह जानना ...</td>\n",
              "    </tr>\n",
              "  </tbody>\n",
              "</table>\n",
              "</div>\n",
              "    <div class=\"colab-df-buttons\">\n",
              "\n",
              "  <div class=\"colab-df-container\">\n",
              "    <button class=\"colab-df-convert\" onclick=\"convertToInteractive('df-72f5d7fe-215b-4c59-9e04-a0b83bceeef2')\"\n",
              "            title=\"Convert this dataframe to an interactive table.\"\n",
              "            style=\"display:none;\">\n",
              "\n",
              "  <svg xmlns=\"http://www.w3.org/2000/svg\" height=\"24px\" viewBox=\"0 -960 960 960\">\n",
              "    <path d=\"M120-120v-720h720v720H120Zm60-500h600v-160H180v160Zm220 220h160v-160H400v160Zm0 220h160v-160H400v160ZM180-400h160v-160H180v160Zm440 0h160v-160H620v160ZM180-180h160v-160H180v160Zm440 0h160v-160H620v160Z\"/>\n",
              "  </svg>\n",
              "    </button>\n",
              "\n",
              "  <style>\n",
              "    .colab-df-container {\n",
              "      display:flex;\n",
              "      gap: 12px;\n",
              "    }\n",
              "\n",
              "    .colab-df-convert {\n",
              "      background-color: #E8F0FE;\n",
              "      border: none;\n",
              "      border-radius: 50%;\n",
              "      cursor: pointer;\n",
              "      display: none;\n",
              "      fill: #1967D2;\n",
              "      height: 32px;\n",
              "      padding: 0 0 0 0;\n",
              "      width: 32px;\n",
              "    }\n",
              "\n",
              "    .colab-df-convert:hover {\n",
              "      background-color: #E2EBFA;\n",
              "      box-shadow: 0px 1px 2px rgba(60, 64, 67, 0.3), 0px 1px 3px 1px rgba(60, 64, 67, 0.15);\n",
              "      fill: #174EA6;\n",
              "    }\n",
              "\n",
              "    .colab-df-buttons div {\n",
              "      margin-bottom: 4px;\n",
              "    }\n",
              "\n",
              "    [theme=dark] .colab-df-convert {\n",
              "      background-color: #3B4455;\n",
              "      fill: #D2E3FC;\n",
              "    }\n",
              "\n",
              "    [theme=dark] .colab-df-convert:hover {\n",
              "      background-color: #434B5C;\n",
              "      box-shadow: 0px 1px 3px 1px rgba(0, 0, 0, 0.15);\n",
              "      filter: drop-shadow(0px 1px 2px rgba(0, 0, 0, 0.3));\n",
              "      fill: #FFFFFF;\n",
              "    }\n",
              "  </style>\n",
              "\n",
              "    <script>\n",
              "      const buttonEl =\n",
              "        document.querySelector('#df-72f5d7fe-215b-4c59-9e04-a0b83bceeef2 button.colab-df-convert');\n",
              "      buttonEl.style.display =\n",
              "        google.colab.kernel.accessAllowed ? 'block' : 'none';\n",
              "\n",
              "      async function convertToInteractive(key) {\n",
              "        const element = document.querySelector('#df-72f5d7fe-215b-4c59-9e04-a0b83bceeef2');\n",
              "        const dataTable =\n",
              "          await google.colab.kernel.invokeFunction('convertToInteractive',\n",
              "                                                    [key], {});\n",
              "        if (!dataTable) return;\n",
              "\n",
              "        const docLinkHtml = 'Like what you see? Visit the ' +\n",
              "          '<a target=\"_blank\" href=https://colab.research.google.com/notebooks/data_table.ipynb>data table notebook</a>'\n",
              "          + ' to learn more about interactive tables.';\n",
              "        element.innerHTML = '';\n",
              "        dataTable['output_type'] = 'display_data';\n",
              "        await google.colab.output.renderOutput(dataTable, element);\n",
              "        const docLink = document.createElement('div');\n",
              "        docLink.innerHTML = docLinkHtml;\n",
              "        element.appendChild(docLink);\n",
              "      }\n",
              "    </script>\n",
              "  </div>\n",
              "\n",
              "\n",
              "    <div id=\"df-f75fee9b-2584-4926-9632-1abaaca68e56\">\n",
              "      <button class=\"colab-df-quickchart\" onclick=\"quickchart('df-f75fee9b-2584-4926-9632-1abaaca68e56')\"\n",
              "                title=\"Suggest charts\"\n",
              "                style=\"display:none;\">\n",
              "\n",
              "<svg xmlns=\"http://www.w3.org/2000/svg\" height=\"24px\"viewBox=\"0 0 24 24\"\n",
              "     width=\"24px\">\n",
              "    <g>\n",
              "        <path d=\"M19 3H5c-1.1 0-2 .9-2 2v14c0 1.1.9 2 2 2h14c1.1 0 2-.9 2-2V5c0-1.1-.9-2-2-2zM9 17H7v-7h2v7zm4 0h-2V7h2v10zm4 0h-2v-4h2v4z\"/>\n",
              "    </g>\n",
              "</svg>\n",
              "      </button>\n",
              "\n",
              "<style>\n",
              "  .colab-df-quickchart {\n",
              "      --bg-color: #E8F0FE;\n",
              "      --fill-color: #1967D2;\n",
              "      --hover-bg-color: #E2EBFA;\n",
              "      --hover-fill-color: #174EA6;\n",
              "      --disabled-fill-color: #AAA;\n",
              "      --disabled-bg-color: #DDD;\n",
              "  }\n",
              "\n",
              "  [theme=dark] .colab-df-quickchart {\n",
              "      --bg-color: #3B4455;\n",
              "      --fill-color: #D2E3FC;\n",
              "      --hover-bg-color: #434B5C;\n",
              "      --hover-fill-color: #FFFFFF;\n",
              "      --disabled-bg-color: #3B4455;\n",
              "      --disabled-fill-color: #666;\n",
              "  }\n",
              "\n",
              "  .colab-df-quickchart {\n",
              "    background-color: var(--bg-color);\n",
              "    border: none;\n",
              "    border-radius: 50%;\n",
              "    cursor: pointer;\n",
              "    display: none;\n",
              "    fill: var(--fill-color);\n",
              "    height: 32px;\n",
              "    padding: 0;\n",
              "    width: 32px;\n",
              "  }\n",
              "\n",
              "  .colab-df-quickchart:hover {\n",
              "    background-color: var(--hover-bg-color);\n",
              "    box-shadow: 0 1px 2px rgba(60, 64, 67, 0.3), 0 1px 3px 1px rgba(60, 64, 67, 0.15);\n",
              "    fill: var(--button-hover-fill-color);\n",
              "  }\n",
              "\n",
              "  .colab-df-quickchart-complete:disabled,\n",
              "  .colab-df-quickchart-complete:disabled:hover {\n",
              "    background-color: var(--disabled-bg-color);\n",
              "    fill: var(--disabled-fill-color);\n",
              "    box-shadow: none;\n",
              "  }\n",
              "\n",
              "  .colab-df-spinner {\n",
              "    border: 2px solid var(--fill-color);\n",
              "    border-color: transparent;\n",
              "    border-bottom-color: var(--fill-color);\n",
              "    animation:\n",
              "      spin 1s steps(1) infinite;\n",
              "  }\n",
              "\n",
              "  @keyframes spin {\n",
              "    0% {\n",
              "      border-color: transparent;\n",
              "      border-bottom-color: var(--fill-color);\n",
              "      border-left-color: var(--fill-color);\n",
              "    }\n",
              "    20% {\n",
              "      border-color: transparent;\n",
              "      border-left-color: var(--fill-color);\n",
              "      border-top-color: var(--fill-color);\n",
              "    }\n",
              "    30% {\n",
              "      border-color: transparent;\n",
              "      border-left-color: var(--fill-color);\n",
              "      border-top-color: var(--fill-color);\n",
              "      border-right-color: var(--fill-color);\n",
              "    }\n",
              "    40% {\n",
              "      border-color: transparent;\n",
              "      border-right-color: var(--fill-color);\n",
              "      border-top-color: var(--fill-color);\n",
              "    }\n",
              "    60% {\n",
              "      border-color: transparent;\n",
              "      border-right-color: var(--fill-color);\n",
              "    }\n",
              "    80% {\n",
              "      border-color: transparent;\n",
              "      border-right-color: var(--fill-color);\n",
              "      border-bottom-color: var(--fill-color);\n",
              "    }\n",
              "    90% {\n",
              "      border-color: transparent;\n",
              "      border-bottom-color: var(--fill-color);\n",
              "    }\n",
              "  }\n",
              "</style>\n",
              "\n",
              "      <script>\n",
              "        async function quickchart(key) {\n",
              "          const quickchartButtonEl =\n",
              "            document.querySelector('#' + key + ' button');\n",
              "          quickchartButtonEl.disabled = true;  // To prevent multiple clicks.\n",
              "          quickchartButtonEl.classList.add('colab-df-spinner');\n",
              "          try {\n",
              "            const charts = await google.colab.kernel.invokeFunction(\n",
              "                'suggestCharts', [key], {});\n",
              "          } catch (error) {\n",
              "            console.error('Error during call to suggestCharts:', error);\n",
              "          }\n",
              "          quickchartButtonEl.classList.remove('colab-df-spinner');\n",
              "          quickchartButtonEl.classList.add('colab-df-quickchart-complete');\n",
              "        }\n",
              "        (() => {\n",
              "          let quickchartButtonEl =\n",
              "            document.querySelector('#df-f75fee9b-2584-4926-9632-1abaaca68e56 button');\n",
              "          quickchartButtonEl.style.display =\n",
              "            google.colab.kernel.accessAllowed ? 'block' : 'none';\n",
              "        })();\n",
              "      </script>\n",
              "    </div>\n",
              "\n",
              "    </div>\n",
              "  </div>\n"
            ],
            "application/vnd.google.colaboratory.intrinsic+json": {
              "type": "dataframe",
              "summary": "{\n  \"name\": \"data\",\n  \"rows\": 5,\n  \"fields\": [\n    {\n      \"column\": \"English\",\n      \"properties\": {\n        \"dtype\": \"string\",\n        \"num_unique_values\": 5,\n        \"samples\": [\n          \"Valabhacharya did promotion-spread of Pushtimarg.\",\n          \"how it looks - the world, in 1960, it starts to move. 1960.\",\n          \"Sat Bull. In this the male straights his legs outside on the bed. The female lays down in front of the male on her back and puts her legs on the arms of the male.In this position her vagina comes exactly in front of the penis of the male. During the intercourse, the male can control the speed by holding the legs of the female\"\n        ],\n        \"semantic_type\": \"\",\n        \"description\": \"\"\n      }\n    },\n    {\n      \"column\": \"Hindi\",\n      \"properties\": {\n        \"dtype\": \"string\",\n        \"num_unique_values\": 5,\n        \"samples\": [\n          \"\\u0935\\u0932\\u094d\\u0932\\u092d\\u093e\\u091a\\u093e\\u0930\\u094d\\u092f \\u0928\\u0947 \\u092a\\u0941\\u0937\\u094d\\u091f\\u093f\\u092e\\u093e\\u0930\\u094d\\u0917 \\u0915\\u093e \\u092a\\u094d\\u0930\\u091a\\u093e\\u0930-\\u092a\\u094d\\u0930\\u0938\\u093e\\u0930 \\u0915\\u093f\\u092f\\u093e\\u0964\",\n          \"\\u0924\\u094b, 1960 \\u092e\\u0947\\u0902 \\u0935\\u093f\\u0936\\u094d\\u0935 \\u0915\\u093f\\u0938 \\u0924\\u0930\\u0939 \\u0926\\u093f\\u0916\\u0924\\u093e \\u0939\\u0948, \\u092f\\u0939 \\u091c\\u093e\\u0928\\u0928\\u093e \\u0939\\u094b\\u0917\\u093e\\u0964\",\n          \"\\u092c\\u0948\\u0920\\u093e \\u0938\\u093e\\u0902\\u0921\\u093c \\u0907\\u0938\\u092e\\u0947\\u0902 \\u092a\\u0941\\u0930\\u0941\\u0937 \\u092c\\u093f\\u0938\\u094d\\u0924\\u0930 \\u092e\\u0947\\u0902 \\u0905\\u092a\\u0928\\u0947 \\u092a\\u093e\\u0902\\u0935 \\u0938\\u0940\\u0927\\u0947 \\u0915\\u0930\\u0915\\u0947 \\u092c\\u093e\\u0939\\u0930 \\u0915\\u0940 \\u0913\\u0930 \\u092b\\u0948\\u0932\\u093e\\u0926\\u0947\\u0924\\u093e \\u0939\\u0948. \\u092e\\u0939\\u093f\\u0932\\u093e \\u092a\\u0941\\u0930\\u0941\\u0937 \\u0915\\u0947 \\u0938\\u093e\\u092e\\u0928\\u0947 \\u092a\\u0940\\u0920 \\u0915\\u0947 \\u092c\\u0932 \\u0932\\u0947\\u091f \\u091c\\u093e\\u0924\\u0940 \\u0939\\u0948 \\u0914\\u0930 \\u0905\\u092a\\u0928\\u0947 \\u092a\\u0948\\u0930 \\u092a\\u0941\\u0930\\u0941\\u0937 \\u0915\\u0947 \\u0915\\u0902\\u0927\\u094b\\u0902 \\u092e\\u0947\\u0902 \\u0930\\u0916 \\u0926\\u0947\\u0924\\u0940 \\u0939\\u0948. \\u0907\\u0938 \\u0905\\u0935\\u0938\\u094d\\u0925\\u093e \\u092e\\u0947\\u0902 \\u0909\\u0938\\u0915\\u0940 \\u092f\\u094b\\u0928\\u093f \\u0920\\u0940\\u0915 \\u092a\\u0941\\u0930\\u0941\\u0937 \\u0915\\u0947 \\u0932\\u093f\\u0902\\u0917 \\u0915\\u0947 \\u0938\\u093e\\u092e\\u0928\\u0947 \\u0906 \\u091c\\u093e\\u0924\\u0940 \\u0939\\u0948. \\u0930\\u0924\\u093f \\u0915\\u094d\\u0930\\u0940\\u0921\\u093c\\u093e \\u0915\\u0947 \\u0926\\u094c\\u0930\\u093e\\u0928 \\u092a\\u0941\\u0930\\u0941\\u0937 \\u092e\\u0939\\u093f\\u0932\\u093e \\u0915\\u0940 \\u091c\\u093e\\u0902\\u0918\\u094b \\u0915\\u0947 \\u092a\\u093e\\u0938 \\u092a\\u0915\\u0921\\u093c \\u0915\\u0930 \\u0927\\u0915\\u094d\\u0915\\u094b\\u0902 \\u0915\\u0940 \\u0917\\u0924\\u093f \\u0915\\u094b \\u0928\\u093f\\u092f\\u0902\\u0924\\u094d\\u0930\\u093f\\u0924 (\\u0915\\u092e-\\u091c\\u094d\\u092f\\u093e\\u0926\\u093e) \\u0915\\u0930 \\u0938\\u0915\\u0924\\u093e \\u0939\\u0948.\"\n        ],\n        \"semantic_type\": \"\",\n        \"description\": \"\"\n      }\n    }\n  ]\n}"
            }
          },
          "metadata": {},
          "execution_count": 58
        }
      ]
    },
    {
      "cell_type": "code",
      "source": [
        "data.info()"
      ],
      "metadata": {
        "colab": {
          "base_uri": "https://localhost:8080/"
        },
        "id": "afUZ_VJCSYVe",
        "outputId": "855c557c-4aeb-4129-a9db-f344e321eb05"
      },
      "execution_count": null,
      "outputs": [
        {
          "output_type": "stream",
          "name": "stdout",
          "text": [
            "<class 'pandas.core.frame.DataFrame'>\n",
            "RangeIndex: 130476 entries, 0 to 130475\n",
            "Data columns (total 2 columns):\n",
            " #   Column   Non-Null Count   Dtype \n",
            "---  ------   --------------   ----- \n",
            " 0   English  130474 non-null  object\n",
            " 1   Hindi    130164 non-null  object\n",
            "dtypes: object(2)\n",
            "memory usage: 2.0+ MB\n"
          ]
        }
      ]
    },
    {
      "cell_type": "code",
      "source": [
        "data.drop_duplicates(inplace=True)\n",
        "data.dropna(inplace=True)"
      ],
      "metadata": {
        "id": "nVrT1QkOSj-c"
      },
      "execution_count": null,
      "outputs": []
    },
    {
      "cell_type": "code",
      "source": [
        "data['English']=data['English'].str.lower()"
      ],
      "metadata": {
        "id": "OAerXkLPSxDD"
      },
      "execution_count": null,
      "outputs": []
    },
    {
      "cell_type": "code",
      "source": [
        "import re\n",
        "def remhtml(text):   #html tags\n",
        "    pat=r'[^a-zA-Z0-9\\s]'\n",
        "    text=re.sub(pat,'',text)\n",
        "    return text\n",
        "data['English']=data['English'].apply(remhtml)"
      ],
      "metadata": {
        "id": "clwE_3NjS0jM"
      },
      "execution_count": null,
      "outputs": []
    },
    {
      "cell_type": "code",
      "source": [
        "def remurl(text):            #urls\n",
        "    pat=re.compile(r'https?://\\S+|www\\.\\S+')\n",
        "    return pat.sub(r'',text)\n",
        "data['English']=data['English'].apply(remurl)\n",
        "data['Hindi']=data['Hindi'].apply(remurl)"
      ],
      "metadata": {
        "id": "y5aocBKBS6j2"
      },
      "execution_count": null,
      "outputs": []
    },
    {
      "cell_type": "code",
      "source": [
        "def expandcontracs(text):        #no shortcuts\n",
        "    expanded=contracs.fix(text)\n",
        "    return expanded\n",
        "data['English']=data['English'].apply(expandcontracs)"
      ],
      "metadata": {
        "id": "SJBk3G7kS-87"
      },
      "execution_count": null,
      "outputs": []
    },
    {
      "cell_type": "code",
      "source": [
        "def prep2(text,lang='english'):\n",
        "    if not isinstance(text,str):\n",
        "        return text\n",
        "    if lang=='english':\n",
        "        pat=re.compile(r'[^a-zA-Z0-9\\s]')    #rem all except spaces,letters,digits\n",
        "        return pat.sub(r'',text)\n",
        "    elif lang=='hindi':\n",
        "        pat=re.compile(r'[^\\u0900-\\u097F\\s]')    #rem anything not in hindi devnagari and spaces\n",
        "        return pat.sub(r'',text)\n",
        "\n",
        "data['English']=data['English'].apply(lambda x:prep2(x,lang='english'))\n",
        "data['Hindi']=data['Hindi'].apply(lambda x:prep2(x,lang='hindi'))"
      ],
      "metadata": {
        "id": "Vy-qw_bCTd37"
      },
      "execution_count": null,
      "outputs": []
    },
    {
      "cell_type": "code",
      "source": [
        "import re\n",
        "import nltk\n",
        "from nltk.corpus import stopwords\n",
        "from textblob import Word"
      ],
      "metadata": {
        "id": "ktacwHX0jXKB"
      },
      "execution_count": null,
      "outputs": []
    },
    {
      "cell_type": "code",
      "source": [
        "nltk.download('stopwords')"
      ],
      "metadata": {
        "colab": {
          "base_uri": "https://localhost:8080/"
        },
        "id": "RupEnQFRjYMf",
        "outputId": "30aaa254-7cf5-404f-93be-36ab1eecf0b3"
      },
      "execution_count": null,
      "outputs": [
        {
          "output_type": "stream",
          "name": "stderr",
          "text": [
            "[nltk_data] Downloading package stopwords to /root/nltk_data...\n",
            "[nltk_data]   Package stopwords is already up-to-date!\n"
          ]
        },
        {
          "output_type": "execute_result",
          "data": {
            "text/plain": [
              "True"
            ]
          },
          "metadata": {},
          "execution_count": 67
        }
      ]
    },
    {
      "cell_type": "code",
      "source": [
        "hinstopwords = set([\n",
        "    \"और\", \"के\", \"का\", \"की\", \"से\", \"है\", \"हैं\", \"यह\", \"था\", \"थे\",\n",
        "    \"हो\", \"में\", \"पर\", \"को\", \"उनका\", \"उनकी\", \"उनके\", \"उसका\", \"उसकी\",\n",
        "    \"इसके\", \"इसके\", \"इसका\", \"इसकी\", \"जो\", \"कि\", \"था\", \"थे\", \"तो\",\n",
        "    \"ही\", \"भी\", \"लेकिन\", \"क्योंकि\", \"जैसे\", \"जब\", \"तक\", \"अगर\", \"या\"\n",
        "])"
      ],
      "metadata": {
        "id": "1VmmEoNnjejy"
      },
      "execution_count": null,
      "outputs": []
    },
    {
      "cell_type": "code",
      "source": [
        "def prep(text, lang=\"english\"):\n",
        "    if not isinstance(text, str):   #return empty string if input is not a str\n",
        "        return \"\"\n",
        "\n",
        "    if lang==\"english\":\n",
        "        stop=set(stopwords.words(\"english\"))\n",
        "        words=text.split()\n",
        "        words=[Word(w).lemmatize() for w in words if w not in stop]     #lematize eachword and then remove stopwords\n",
        "    elif lang==\"hindi\":\n",
        "        stop=hinstopwords\n",
        "        words=text.split()\n",
        "        words=[w for w in words if w not in stop]    #keep only words that are not stopwords\n",
        "    else:\n",
        "        words=text.split()\n",
        "    return \" \".join(words)    #join back\n",
        "\n",
        "data['English']=data['English'].apply(lambda x: prep(x,lang='english'))\n",
        "data['Hindi']=data['Hindi'].apply(lambda x: prep(x,lang='hindi'))\n"
      ],
      "metadata": {
        "id": "8H7VyDVch9tH"
      },
      "execution_count": null,
      "outputs": []
    },
    {
      "cell_type": "code",
      "source": [
        "data.sample(5)"
      ],
      "metadata": {
        "colab": {
          "base_uri": "https://localhost:8080/",
          "height": 206
        },
        "id": "FKzf8sH4TrWJ",
        "outputId": "e9ac020b-5e72-495e-faf2-2911922751e2"
      },
      "execution_count": null,
      "outputs": [
        {
          "output_type": "execute_result",
          "data": {
            "text/plain": [
              "                                                 English  \\\n",
              "31349  wallace remarked necessary issue prospectus ju...   \n",
              "70724                         bjorn rorslett norway sent   \n",
              "14011                                   people education   \n",
              "81725                                            sadness   \n",
              "85309                             fence manhattan bridge   \n",
              "\n",
              "                                                   Hindi  \n",
              "31349  जैसा वालस ने लिखा एक जूट मिल केवल अपना प्रास्प...  \n",
              "70724               मुझे नार्वे ब्जोर्न रोर्सलेट ने भेजी  \n",
              "14011                                  सिर्फ लोग शिक्षित  \n",
              "81725                                   ये दुख सिर्फ़ एक  \n",
              "85309                                बाहरी दीवार चढ़ गया  "
            ],
            "text/html": [
              "\n",
              "  <div id=\"df-7a27953b-b0aa-49c6-acca-55310f4b237f\" class=\"colab-df-container\">\n",
              "    <div>\n",
              "<style scoped>\n",
              "    .dataframe tbody tr th:only-of-type {\n",
              "        vertical-align: middle;\n",
              "    }\n",
              "\n",
              "    .dataframe tbody tr th {\n",
              "        vertical-align: top;\n",
              "    }\n",
              "\n",
              "    .dataframe thead th {\n",
              "        text-align: right;\n",
              "    }\n",
              "</style>\n",
              "<table border=\"1\" class=\"dataframe\">\n",
              "  <thead>\n",
              "    <tr style=\"text-align: right;\">\n",
              "      <th></th>\n",
              "      <th>English</th>\n",
              "      <th>Hindi</th>\n",
              "    </tr>\n",
              "  </thead>\n",
              "  <tbody>\n",
              "    <tr>\n",
              "      <th>31349</th>\n",
              "      <td>wallace remarked necessary issue prospectus ju...</td>\n",
              "      <td>जैसा वालस ने लिखा एक जूट मिल केवल अपना प्रास्प...</td>\n",
              "    </tr>\n",
              "    <tr>\n",
              "      <th>70724</th>\n",
              "      <td>bjorn rorslett norway sent</td>\n",
              "      <td>मुझे नार्वे ब्जोर्न रोर्सलेट ने भेजी</td>\n",
              "    </tr>\n",
              "    <tr>\n",
              "      <th>14011</th>\n",
              "      <td>people education</td>\n",
              "      <td>सिर्फ लोग शिक्षित</td>\n",
              "    </tr>\n",
              "    <tr>\n",
              "      <th>81725</th>\n",
              "      <td>sadness</td>\n",
              "      <td>ये दुख सिर्फ़ एक</td>\n",
              "    </tr>\n",
              "    <tr>\n",
              "      <th>85309</th>\n",
              "      <td>fence manhattan bridge</td>\n",
              "      <td>बाहरी दीवार चढ़ गया</td>\n",
              "    </tr>\n",
              "  </tbody>\n",
              "</table>\n",
              "</div>\n",
              "    <div class=\"colab-df-buttons\">\n",
              "\n",
              "  <div class=\"colab-df-container\">\n",
              "    <button class=\"colab-df-convert\" onclick=\"convertToInteractive('df-7a27953b-b0aa-49c6-acca-55310f4b237f')\"\n",
              "            title=\"Convert this dataframe to an interactive table.\"\n",
              "            style=\"display:none;\">\n",
              "\n",
              "  <svg xmlns=\"http://www.w3.org/2000/svg\" height=\"24px\" viewBox=\"0 -960 960 960\">\n",
              "    <path d=\"M120-120v-720h720v720H120Zm60-500h600v-160H180v160Zm220 220h160v-160H400v160Zm0 220h160v-160H400v160ZM180-400h160v-160H180v160Zm440 0h160v-160H620v160ZM180-180h160v-160H180v160Zm440 0h160v-160H620v160Z\"/>\n",
              "  </svg>\n",
              "    </button>\n",
              "\n",
              "  <style>\n",
              "    .colab-df-container {\n",
              "      display:flex;\n",
              "      gap: 12px;\n",
              "    }\n",
              "\n",
              "    .colab-df-convert {\n",
              "      background-color: #E8F0FE;\n",
              "      border: none;\n",
              "      border-radius: 50%;\n",
              "      cursor: pointer;\n",
              "      display: none;\n",
              "      fill: #1967D2;\n",
              "      height: 32px;\n",
              "      padding: 0 0 0 0;\n",
              "      width: 32px;\n",
              "    }\n",
              "\n",
              "    .colab-df-convert:hover {\n",
              "      background-color: #E2EBFA;\n",
              "      box-shadow: 0px 1px 2px rgba(60, 64, 67, 0.3), 0px 1px 3px 1px rgba(60, 64, 67, 0.15);\n",
              "      fill: #174EA6;\n",
              "    }\n",
              "\n",
              "    .colab-df-buttons div {\n",
              "      margin-bottom: 4px;\n",
              "    }\n",
              "\n",
              "    [theme=dark] .colab-df-convert {\n",
              "      background-color: #3B4455;\n",
              "      fill: #D2E3FC;\n",
              "    }\n",
              "\n",
              "    [theme=dark] .colab-df-convert:hover {\n",
              "      background-color: #434B5C;\n",
              "      box-shadow: 0px 1px 3px 1px rgba(0, 0, 0, 0.15);\n",
              "      filter: drop-shadow(0px 1px 2px rgba(0, 0, 0, 0.3));\n",
              "      fill: #FFFFFF;\n",
              "    }\n",
              "  </style>\n",
              "\n",
              "    <script>\n",
              "      const buttonEl =\n",
              "        document.querySelector('#df-7a27953b-b0aa-49c6-acca-55310f4b237f button.colab-df-convert');\n",
              "      buttonEl.style.display =\n",
              "        google.colab.kernel.accessAllowed ? 'block' : 'none';\n",
              "\n",
              "      async function convertToInteractive(key) {\n",
              "        const element = document.querySelector('#df-7a27953b-b0aa-49c6-acca-55310f4b237f');\n",
              "        const dataTable =\n",
              "          await google.colab.kernel.invokeFunction('convertToInteractive',\n",
              "                                                    [key], {});\n",
              "        if (!dataTable) return;\n",
              "\n",
              "        const docLinkHtml = 'Like what you see? Visit the ' +\n",
              "          '<a target=\"_blank\" href=https://colab.research.google.com/notebooks/data_table.ipynb>data table notebook</a>'\n",
              "          + ' to learn more about interactive tables.';\n",
              "        element.innerHTML = '';\n",
              "        dataTable['output_type'] = 'display_data';\n",
              "        await google.colab.output.renderOutput(dataTable, element);\n",
              "        const docLink = document.createElement('div');\n",
              "        docLink.innerHTML = docLinkHtml;\n",
              "        element.appendChild(docLink);\n",
              "      }\n",
              "    </script>\n",
              "  </div>\n",
              "\n",
              "\n",
              "    <div id=\"df-c28d3b11-0594-4dcc-acc8-4b45fc55307c\">\n",
              "      <button class=\"colab-df-quickchart\" onclick=\"quickchart('df-c28d3b11-0594-4dcc-acc8-4b45fc55307c')\"\n",
              "                title=\"Suggest charts\"\n",
              "                style=\"display:none;\">\n",
              "\n",
              "<svg xmlns=\"http://www.w3.org/2000/svg\" height=\"24px\"viewBox=\"0 0 24 24\"\n",
              "     width=\"24px\">\n",
              "    <g>\n",
              "        <path d=\"M19 3H5c-1.1 0-2 .9-2 2v14c0 1.1.9 2 2 2h14c1.1 0 2-.9 2-2V5c0-1.1-.9-2-2-2zM9 17H7v-7h2v7zm4 0h-2V7h2v10zm4 0h-2v-4h2v4z\"/>\n",
              "    </g>\n",
              "</svg>\n",
              "      </button>\n",
              "\n",
              "<style>\n",
              "  .colab-df-quickchart {\n",
              "      --bg-color: #E8F0FE;\n",
              "      --fill-color: #1967D2;\n",
              "      --hover-bg-color: #E2EBFA;\n",
              "      --hover-fill-color: #174EA6;\n",
              "      --disabled-fill-color: #AAA;\n",
              "      --disabled-bg-color: #DDD;\n",
              "  }\n",
              "\n",
              "  [theme=dark] .colab-df-quickchart {\n",
              "      --bg-color: #3B4455;\n",
              "      --fill-color: #D2E3FC;\n",
              "      --hover-bg-color: #434B5C;\n",
              "      --hover-fill-color: #FFFFFF;\n",
              "      --disabled-bg-color: #3B4455;\n",
              "      --disabled-fill-color: #666;\n",
              "  }\n",
              "\n",
              "  .colab-df-quickchart {\n",
              "    background-color: var(--bg-color);\n",
              "    border: none;\n",
              "    border-radius: 50%;\n",
              "    cursor: pointer;\n",
              "    display: none;\n",
              "    fill: var(--fill-color);\n",
              "    height: 32px;\n",
              "    padding: 0;\n",
              "    width: 32px;\n",
              "  }\n",
              "\n",
              "  .colab-df-quickchart:hover {\n",
              "    background-color: var(--hover-bg-color);\n",
              "    box-shadow: 0 1px 2px rgba(60, 64, 67, 0.3), 0 1px 3px 1px rgba(60, 64, 67, 0.15);\n",
              "    fill: var(--button-hover-fill-color);\n",
              "  }\n",
              "\n",
              "  .colab-df-quickchart-complete:disabled,\n",
              "  .colab-df-quickchart-complete:disabled:hover {\n",
              "    background-color: var(--disabled-bg-color);\n",
              "    fill: var(--disabled-fill-color);\n",
              "    box-shadow: none;\n",
              "  }\n",
              "\n",
              "  .colab-df-spinner {\n",
              "    border: 2px solid var(--fill-color);\n",
              "    border-color: transparent;\n",
              "    border-bottom-color: var(--fill-color);\n",
              "    animation:\n",
              "      spin 1s steps(1) infinite;\n",
              "  }\n",
              "\n",
              "  @keyframes spin {\n",
              "    0% {\n",
              "      border-color: transparent;\n",
              "      border-bottom-color: var(--fill-color);\n",
              "      border-left-color: var(--fill-color);\n",
              "    }\n",
              "    20% {\n",
              "      border-color: transparent;\n",
              "      border-left-color: var(--fill-color);\n",
              "      border-top-color: var(--fill-color);\n",
              "    }\n",
              "    30% {\n",
              "      border-color: transparent;\n",
              "      border-left-color: var(--fill-color);\n",
              "      border-top-color: var(--fill-color);\n",
              "      border-right-color: var(--fill-color);\n",
              "    }\n",
              "    40% {\n",
              "      border-color: transparent;\n",
              "      border-right-color: var(--fill-color);\n",
              "      border-top-color: var(--fill-color);\n",
              "    }\n",
              "    60% {\n",
              "      border-color: transparent;\n",
              "      border-right-color: var(--fill-color);\n",
              "    }\n",
              "    80% {\n",
              "      border-color: transparent;\n",
              "      border-right-color: var(--fill-color);\n",
              "      border-bottom-color: var(--fill-color);\n",
              "    }\n",
              "    90% {\n",
              "      border-color: transparent;\n",
              "      border-bottom-color: var(--fill-color);\n",
              "    }\n",
              "  }\n",
              "</style>\n",
              "\n",
              "      <script>\n",
              "        async function quickchart(key) {\n",
              "          const quickchartButtonEl =\n",
              "            document.querySelector('#' + key + ' button');\n",
              "          quickchartButtonEl.disabled = true;  // To prevent multiple clicks.\n",
              "          quickchartButtonEl.classList.add('colab-df-spinner');\n",
              "          try {\n",
              "            const charts = await google.colab.kernel.invokeFunction(\n",
              "                'suggestCharts', [key], {});\n",
              "          } catch (error) {\n",
              "            console.error('Error during call to suggestCharts:', error);\n",
              "          }\n",
              "          quickchartButtonEl.classList.remove('colab-df-spinner');\n",
              "          quickchartButtonEl.classList.add('colab-df-quickchart-complete');\n",
              "        }\n",
              "        (() => {\n",
              "          let quickchartButtonEl =\n",
              "            document.querySelector('#df-c28d3b11-0594-4dcc-acc8-4b45fc55307c button');\n",
              "          quickchartButtonEl.style.display =\n",
              "            google.colab.kernel.accessAllowed ? 'block' : 'none';\n",
              "        })();\n",
              "      </script>\n",
              "    </div>\n",
              "\n",
              "    </div>\n",
              "  </div>\n"
            ],
            "application/vnd.google.colaboratory.intrinsic+json": {
              "type": "dataframe",
              "summary": "{\n  \"name\": \"data\",\n  \"rows\": 5,\n  \"fields\": [\n    {\n      \"column\": \"English\",\n      \"properties\": {\n        \"dtype\": \"string\",\n        \"num_unique_values\": 5,\n        \"samples\": [\n          \"bjorn rorslett norway sent\",\n          \"fence manhattan bridge\",\n          \"people education\"\n        ],\n        \"semantic_type\": \"\",\n        \"description\": \"\"\n      }\n    },\n    {\n      \"column\": \"Hindi\",\n      \"properties\": {\n        \"dtype\": \"string\",\n        \"num_unique_values\": 5,\n        \"samples\": [\n          \"\\u092e\\u0941\\u091d\\u0947 \\u0928\\u093e\\u0930\\u094d\\u0935\\u0947 \\u092c\\u094d\\u091c\\u094b\\u0930\\u094d\\u0928 \\u0930\\u094b\\u0930\\u094d\\u0938\\u0932\\u0947\\u091f \\u0928\\u0947 \\u092d\\u0947\\u091c\\u0940\",\n          \"\\u092c\\u093e\\u0939\\u0930\\u0940 \\u0926\\u0940\\u0935\\u093e\\u0930 \\u091a\\u0922\\u093c \\u0917\\u092f\\u093e\",\n          \"\\u0938\\u093f\\u0930\\u094d\\u092b \\u0932\\u094b\\u0917 \\u0936\\u093f\\u0915\\u094d\\u0937\\u093f\\u0924\"\n        ],\n        \"semantic_type\": \"\",\n        \"description\": \"\"\n      }\n    }\n  ]\n}"
            }
          },
          "metadata": {},
          "execution_count": 70
        }
      ]
    },
    {
      "cell_type": "code",
      "source": [
        "data=data[data['English'].str.len()<=50]   #only strs <50 len"
      ],
      "metadata": {
        "id": "J7GVBdenVcyb"
      },
      "execution_count": null,
      "outputs": []
    },
    {
      "cell_type": "code",
      "source": [
        "data.shape"
      ],
      "metadata": {
        "colab": {
          "base_uri": "https://localhost:8080/"
        },
        "id": "ti4jLILVdGm0",
        "outputId": "82b6466d-e34a-41ff-9446-f00a34b49342"
      },
      "execution_count": null,
      "outputs": [
        {
          "output_type": "execute_result",
          "data": {
            "text/plain": [
              "(73243, 2)"
            ]
          },
          "metadata": {},
          "execution_count": 73
        }
      ]
    },
    {
      "cell_type": "code",
      "source": [
        "data.to_csv(\"datasethindi.csv\",index=False)"
      ],
      "metadata": {
        "id": "nIwctjfiS38K"
      },
      "execution_count": null,
      "outputs": []
    },
    {
      "cell_type": "code",
      "source": [
        "import re\n",
        "import pandas as pd\n",
        "from aksharamukha import transliterate\n",
        "def hindi2hinglish(text):\n",
        "    if pd.isna(text):\n",
        "        return \"\"\n",
        "    out=transliterate.process('Devanagari','ITRANS',text,nativize=True)   #aksharamukha transliterator, to covert devanagari into hinglish like\n",
        "    out=normalize(out)   #normalization to clean\n",
        "    return out.lower()\n",
        "def normalize(text):\n",
        "    rules={           #to fix common inconsistencies\n",
        "        'aa': 'a',\n",
        "        'ii': 'i',\n",
        "        'uu': 'u',\n",
        "        'ee': 'i',\n",
        "        'oo': 'u',\n",
        "        'shh': 'sh',\n",
        "        'sh': 'sh',\n",
        "        'chh': 'ch',\n",
        "        'khh': 'kh',\n",
        "        'ghh': 'gh',\n",
        "        'ph': 'f',\n",
        "        'dhh': 'dh',\n",
        "        'ri': 'ri',\n",
        "        'ya': 'ya',\n",
        "        'aa ': 'a ',\n",
        "    }\n",
        "    for k,v in rules.items():\n",
        "        text=text.replace(k,v)\n",
        "    text=text.lower()\n",
        "    text=re.sub(r\"\\.\\.+\",\".\",text)        #multiple dots into one\n",
        "    text=re.sub(r\"[^a-z0-9\\s\\.,!?]\",\"\",text) #only a-z,digits,spaces and puncs\n",
        "    text=re.sub(r\"\\s+\",\" \", text).strip()    #multiple spaces into one\n",
        "    text=re.sub(r'[āīūṛṅñṭḍṇśṣ]','',text)   #rem special diacritics from hinglish text\n",
        "    return text"
      ],
      "metadata": {
        "id": "vUcNbSPThLmi"
      },
      "execution_count": null,
      "outputs": []
    },
    {
      "cell_type": "code",
      "source": [
        "def process2(text):\n",
        "    text=hindi2hinglish(text)\n",
        "    text=normalize(text)\n",
        "    return text\n",
        "\n",
        "data[\"Hinglish\"]=data[\"Hindi\"].apply(process2)"
      ],
      "metadata": {
        "id": "rcZj7OsHi7Np"
      },
      "execution_count": null,
      "outputs": []
    },
    {
      "cell_type": "code",
      "source": [
        "data=data.drop(columns=[\"Hindi\"])"
      ],
      "metadata": {
        "id": "5_XjE6jLY_9t"
      },
      "execution_count": null,
      "outputs": []
    },
    {
      "cell_type": "code",
      "source": [
        "data.shape"
      ],
      "metadata": {
        "colab": {
          "base_uri": "https://localhost:8080/"
        },
        "id": "a5T-Yte-4toO",
        "outputId": "10e39a53-7282-4b2a-f2df-026dc0df3955"
      },
      "execution_count": null,
      "outputs": [
        {
          "output_type": "execute_result",
          "data": {
            "text/plain": [
              "(73243, 2)"
            ]
          },
          "metadata": {},
          "execution_count": 79
        }
      ]
    },
    {
      "cell_type": "code",
      "source": [
        "data.sample(5)"
      ],
      "metadata": {
        "id": "M9xCgso_jfVj",
        "colab": {
          "base_uri": "https://localhost:8080/",
          "height": 206
        },
        "outputId": "5eb84ed3-6425-4d96-d2d9-f4fc0a855c55"
      },
      "execution_count": null,
      "outputs": [
        {
          "output_type": "execute_result",
          "data": {
            "text/plain": [
              "                                           English  \\\n",
              "89080  could use picture bee followed picture leaf   \n",
              "30543                         13 year 10 month age   \n",
              "65931            insect see green blue ultraviolet   \n",
              "1442                              must send doctor   \n",
              "60850              fiction describe alien creature   \n",
              "\n",
              "                                                Hinglish  \n",
              "89080  apa madhumakkhi bi tasvira piche eka patti lif...  \n",
              "30543  usa samaya balaka umra thi teraha sala dasa ma...  \n",
              "65931               ki.de hara nila parabaimgani dekhate  \n",
              "1442                       tumhem da.cktara bulana hoga.  \n",
              "60850     parikalpana vo paragrahi jiva tina pairom vale  "
            ],
            "text/html": [
              "\n",
              "  <div id=\"df-c328d82a-cc0f-43a0-b9d9-9e0bb089ac0d\" class=\"colab-df-container\">\n",
              "    <div>\n",
              "<style scoped>\n",
              "    .dataframe tbody tr th:only-of-type {\n",
              "        vertical-align: middle;\n",
              "    }\n",
              "\n",
              "    .dataframe tbody tr th {\n",
              "        vertical-align: top;\n",
              "    }\n",
              "\n",
              "    .dataframe thead th {\n",
              "        text-align: right;\n",
              "    }\n",
              "</style>\n",
              "<table border=\"1\" class=\"dataframe\">\n",
              "  <thead>\n",
              "    <tr style=\"text-align: right;\">\n",
              "      <th></th>\n",
              "      <th>English</th>\n",
              "      <th>Hinglish</th>\n",
              "    </tr>\n",
              "  </thead>\n",
              "  <tbody>\n",
              "    <tr>\n",
              "      <th>89080</th>\n",
              "      <td>could use picture bee followed picture leaf</td>\n",
              "      <td>apa madhumakkhi bi tasvira piche eka patti lif...</td>\n",
              "    </tr>\n",
              "    <tr>\n",
              "      <th>30543</th>\n",
              "      <td>13 year 10 month age</td>\n",
              "      <td>usa samaya balaka umra thi teraha sala dasa ma...</td>\n",
              "    </tr>\n",
              "    <tr>\n",
              "      <th>65931</th>\n",
              "      <td>insect see green blue ultraviolet</td>\n",
              "      <td>ki.de hara nila parabaimgani dekhate</td>\n",
              "    </tr>\n",
              "    <tr>\n",
              "      <th>1442</th>\n",
              "      <td>must send doctor</td>\n",
              "      <td>tumhem da.cktara bulana hoga.</td>\n",
              "    </tr>\n",
              "    <tr>\n",
              "      <th>60850</th>\n",
              "      <td>fiction describe alien creature</td>\n",
              "      <td>parikalpana vo paragrahi jiva tina pairom vale</td>\n",
              "    </tr>\n",
              "  </tbody>\n",
              "</table>\n",
              "</div>\n",
              "    <div class=\"colab-df-buttons\">\n",
              "\n",
              "  <div class=\"colab-df-container\">\n",
              "    <button class=\"colab-df-convert\" onclick=\"convertToInteractive('df-c328d82a-cc0f-43a0-b9d9-9e0bb089ac0d')\"\n",
              "            title=\"Convert this dataframe to an interactive table.\"\n",
              "            style=\"display:none;\">\n",
              "\n",
              "  <svg xmlns=\"http://www.w3.org/2000/svg\" height=\"24px\" viewBox=\"0 -960 960 960\">\n",
              "    <path d=\"M120-120v-720h720v720H120Zm60-500h600v-160H180v160Zm220 220h160v-160H400v160Zm0 220h160v-160H400v160ZM180-400h160v-160H180v160Zm440 0h160v-160H620v160ZM180-180h160v-160H180v160Zm440 0h160v-160H620v160Z\"/>\n",
              "  </svg>\n",
              "    </button>\n",
              "\n",
              "  <style>\n",
              "    .colab-df-container {\n",
              "      display:flex;\n",
              "      gap: 12px;\n",
              "    }\n",
              "\n",
              "    .colab-df-convert {\n",
              "      background-color: #E8F0FE;\n",
              "      border: none;\n",
              "      border-radius: 50%;\n",
              "      cursor: pointer;\n",
              "      display: none;\n",
              "      fill: #1967D2;\n",
              "      height: 32px;\n",
              "      padding: 0 0 0 0;\n",
              "      width: 32px;\n",
              "    }\n",
              "\n",
              "    .colab-df-convert:hover {\n",
              "      background-color: #E2EBFA;\n",
              "      box-shadow: 0px 1px 2px rgba(60, 64, 67, 0.3), 0px 1px 3px 1px rgba(60, 64, 67, 0.15);\n",
              "      fill: #174EA6;\n",
              "    }\n",
              "\n",
              "    .colab-df-buttons div {\n",
              "      margin-bottom: 4px;\n",
              "    }\n",
              "\n",
              "    [theme=dark] .colab-df-convert {\n",
              "      background-color: #3B4455;\n",
              "      fill: #D2E3FC;\n",
              "    }\n",
              "\n",
              "    [theme=dark] .colab-df-convert:hover {\n",
              "      background-color: #434B5C;\n",
              "      box-shadow: 0px 1px 3px 1px rgba(0, 0, 0, 0.15);\n",
              "      filter: drop-shadow(0px 1px 2px rgba(0, 0, 0, 0.3));\n",
              "      fill: #FFFFFF;\n",
              "    }\n",
              "  </style>\n",
              "\n",
              "    <script>\n",
              "      const buttonEl =\n",
              "        document.querySelector('#df-c328d82a-cc0f-43a0-b9d9-9e0bb089ac0d button.colab-df-convert');\n",
              "      buttonEl.style.display =\n",
              "        google.colab.kernel.accessAllowed ? 'block' : 'none';\n",
              "\n",
              "      async function convertToInteractive(key) {\n",
              "        const element = document.querySelector('#df-c328d82a-cc0f-43a0-b9d9-9e0bb089ac0d');\n",
              "        const dataTable =\n",
              "          await google.colab.kernel.invokeFunction('convertToInteractive',\n",
              "                                                    [key], {});\n",
              "        if (!dataTable) return;\n",
              "\n",
              "        const docLinkHtml = 'Like what you see? Visit the ' +\n",
              "          '<a target=\"_blank\" href=https://colab.research.google.com/notebooks/data_table.ipynb>data table notebook</a>'\n",
              "          + ' to learn more about interactive tables.';\n",
              "        element.innerHTML = '';\n",
              "        dataTable['output_type'] = 'display_data';\n",
              "        await google.colab.output.renderOutput(dataTable, element);\n",
              "        const docLink = document.createElement('div');\n",
              "        docLink.innerHTML = docLinkHtml;\n",
              "        element.appendChild(docLink);\n",
              "      }\n",
              "    </script>\n",
              "  </div>\n",
              "\n",
              "\n",
              "    <div id=\"df-6ca3204d-0143-45a1-9365-e087ba57a189\">\n",
              "      <button class=\"colab-df-quickchart\" onclick=\"quickchart('df-6ca3204d-0143-45a1-9365-e087ba57a189')\"\n",
              "                title=\"Suggest charts\"\n",
              "                style=\"display:none;\">\n",
              "\n",
              "<svg xmlns=\"http://www.w3.org/2000/svg\" height=\"24px\"viewBox=\"0 0 24 24\"\n",
              "     width=\"24px\">\n",
              "    <g>\n",
              "        <path d=\"M19 3H5c-1.1 0-2 .9-2 2v14c0 1.1.9 2 2 2h14c1.1 0 2-.9 2-2V5c0-1.1-.9-2-2-2zM9 17H7v-7h2v7zm4 0h-2V7h2v10zm4 0h-2v-4h2v4z\"/>\n",
              "    </g>\n",
              "</svg>\n",
              "      </button>\n",
              "\n",
              "<style>\n",
              "  .colab-df-quickchart {\n",
              "      --bg-color: #E8F0FE;\n",
              "      --fill-color: #1967D2;\n",
              "      --hover-bg-color: #E2EBFA;\n",
              "      --hover-fill-color: #174EA6;\n",
              "      --disabled-fill-color: #AAA;\n",
              "      --disabled-bg-color: #DDD;\n",
              "  }\n",
              "\n",
              "  [theme=dark] .colab-df-quickchart {\n",
              "      --bg-color: #3B4455;\n",
              "      --fill-color: #D2E3FC;\n",
              "      --hover-bg-color: #434B5C;\n",
              "      --hover-fill-color: #FFFFFF;\n",
              "      --disabled-bg-color: #3B4455;\n",
              "      --disabled-fill-color: #666;\n",
              "  }\n",
              "\n",
              "  .colab-df-quickchart {\n",
              "    background-color: var(--bg-color);\n",
              "    border: none;\n",
              "    border-radius: 50%;\n",
              "    cursor: pointer;\n",
              "    display: none;\n",
              "    fill: var(--fill-color);\n",
              "    height: 32px;\n",
              "    padding: 0;\n",
              "    width: 32px;\n",
              "  }\n",
              "\n",
              "  .colab-df-quickchart:hover {\n",
              "    background-color: var(--hover-bg-color);\n",
              "    box-shadow: 0 1px 2px rgba(60, 64, 67, 0.3), 0 1px 3px 1px rgba(60, 64, 67, 0.15);\n",
              "    fill: var(--button-hover-fill-color);\n",
              "  }\n",
              "\n",
              "  .colab-df-quickchart-complete:disabled,\n",
              "  .colab-df-quickchart-complete:disabled:hover {\n",
              "    background-color: var(--disabled-bg-color);\n",
              "    fill: var(--disabled-fill-color);\n",
              "    box-shadow: none;\n",
              "  }\n",
              "\n",
              "  .colab-df-spinner {\n",
              "    border: 2px solid var(--fill-color);\n",
              "    border-color: transparent;\n",
              "    border-bottom-color: var(--fill-color);\n",
              "    animation:\n",
              "      spin 1s steps(1) infinite;\n",
              "  }\n",
              "\n",
              "  @keyframes spin {\n",
              "    0% {\n",
              "      border-color: transparent;\n",
              "      border-bottom-color: var(--fill-color);\n",
              "      border-left-color: var(--fill-color);\n",
              "    }\n",
              "    20% {\n",
              "      border-color: transparent;\n",
              "      border-left-color: var(--fill-color);\n",
              "      border-top-color: var(--fill-color);\n",
              "    }\n",
              "    30% {\n",
              "      border-color: transparent;\n",
              "      border-left-color: var(--fill-color);\n",
              "      border-top-color: var(--fill-color);\n",
              "      border-right-color: var(--fill-color);\n",
              "    }\n",
              "    40% {\n",
              "      border-color: transparent;\n",
              "      border-right-color: var(--fill-color);\n",
              "      border-top-color: var(--fill-color);\n",
              "    }\n",
              "    60% {\n",
              "      border-color: transparent;\n",
              "      border-right-color: var(--fill-color);\n",
              "    }\n",
              "    80% {\n",
              "      border-color: transparent;\n",
              "      border-right-color: var(--fill-color);\n",
              "      border-bottom-color: var(--fill-color);\n",
              "    }\n",
              "    90% {\n",
              "      border-color: transparent;\n",
              "      border-bottom-color: var(--fill-color);\n",
              "    }\n",
              "  }\n",
              "</style>\n",
              "\n",
              "      <script>\n",
              "        async function quickchart(key) {\n",
              "          const quickchartButtonEl =\n",
              "            document.querySelector('#' + key + ' button');\n",
              "          quickchartButtonEl.disabled = true;  // To prevent multiple clicks.\n",
              "          quickchartButtonEl.classList.add('colab-df-spinner');\n",
              "          try {\n",
              "            const charts = await google.colab.kernel.invokeFunction(\n",
              "                'suggestCharts', [key], {});\n",
              "          } catch (error) {\n",
              "            console.error('Error during call to suggestCharts:', error);\n",
              "          }\n",
              "          quickchartButtonEl.classList.remove('colab-df-spinner');\n",
              "          quickchartButtonEl.classList.add('colab-df-quickchart-complete');\n",
              "        }\n",
              "        (() => {\n",
              "          let quickchartButtonEl =\n",
              "            document.querySelector('#df-6ca3204d-0143-45a1-9365-e087ba57a189 button');\n",
              "          quickchartButtonEl.style.display =\n",
              "            google.colab.kernel.accessAllowed ? 'block' : 'none';\n",
              "        })();\n",
              "      </script>\n",
              "    </div>\n",
              "\n",
              "    </div>\n",
              "  </div>\n"
            ],
            "application/vnd.google.colaboratory.intrinsic+json": {
              "type": "dataframe",
              "summary": "{\n  \"name\": \"data\",\n  \"rows\": 5,\n  \"fields\": [\n    {\n      \"column\": \"English\",\n      \"properties\": {\n        \"dtype\": \"string\",\n        \"num_unique_values\": 5,\n        \"samples\": [\n          \"13 year 10 month age\",\n          \"fiction describe alien creature\",\n          \"insect see green blue ultraviolet\"\n        ],\n        \"semantic_type\": \"\",\n        \"description\": \"\"\n      }\n    },\n    {\n      \"column\": \"Hinglish\",\n      \"properties\": {\n        \"dtype\": \"string\",\n        \"num_unique_values\": 5,\n        \"samples\": [\n          \"usa samaya balaka umra thi teraha sala dasa mahine\",\n          \"parikalpana vo paragrahi jiva tina pairom vale\",\n          \"ki.de hara nila parabaimgani dekhate\"\n        ],\n        \"semantic_type\": \"\",\n        \"description\": \"\"\n      }\n    }\n  ]\n}"
            }
          },
          "metadata": {},
          "execution_count": 85
        }
      ]
    },
    {
      "cell_type": "code",
      "source": [
        "data.to_csv(\"datasethinglish.csv\", index=False)"
      ],
      "metadata": {
        "id": "fubbxQioTR2T"
      },
      "execution_count": null,
      "outputs": []
    }
  ]
}